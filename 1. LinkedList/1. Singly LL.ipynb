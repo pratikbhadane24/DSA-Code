{
 "cells": [
  {
   "cell_type": "code",
   "execution_count": null,
   "metadata": {},
   "outputs": [],
   "source": [
    "class Node:\n",
    "    def __init__(self, data):\n",
    "        self.data = data\n",
    "        self.next = None"
   ]
  },
  {
   "cell_type": "code",
   "execution_count": null,
   "metadata": {},
   "outputs": [],
   "source": [
    "class LinkedList:\n",
    "    def __init__(self):\n",
    "        self.head_node = None\n",
    "    \n",
    "    def get_head(self):\n",
    "        return self.head_node\n",
    "    \n",
    "    def is_empty(self):\n",
    "        return self.head_node == None\n",
    "    \n",
    "    def print_list(self):\n",
    "        if self.is_empty():\n",
    "            return \"List is Empty\"\n",
    "        temp = self.get_head()\n",
    "        while temp.next is not None:\n",
    "            print(temp.data, end=\" ->\")\n",
    "            temp = temp.next\n",
    "        print(temp.data, \"-> None\")\n",
    "        return True\n"
   ]
  }
 ],
 "metadata": {
  "language_info": {
   "name": "python"
  },
  "orig_nbformat": 4
 },
 "nbformat": 4,
 "nbformat_minor": 2
}
