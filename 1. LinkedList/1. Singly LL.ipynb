{
 "cells": [
  {
   "cell_type": "code",
   "execution_count": null,
   "metadata": {},
   "outputs": [],
   "source": [
    "class Node:\n",
    "    def __init__(self, data):\n",
    "        self.data = data\n",
    "        self.next = None"
   ]
  },
  {
   "cell_type": "code",
   "execution_count": 1,
   "metadata": {},
   "outputs": [],
   "source": [
    "class LinkedList:\n",
    "    def __init__(self):\n",
    "        self.head_node = None\n",
    "    \n",
    "    def get_head(self):\n",
    "        return self.head_node\n",
    "    \n",
    "    def is_empty(self):\n",
    "        return self.head_node == None\n",
    "    \n",
    "    def print_list(self):\n",
    "        if self.is_empty():\n",
    "            return \"List is Empty\"\n",
    "        temp = self.get_head()\n",
    "        while temp.next is not None:\n",
    "            print(temp.data, end=\" ->\")\n",
    "            temp = temp.next\n",
    "        print(temp.data, \"-> None\")\n",
    "        return True\n",
    "\n",
    "    def insert_at_tail(self, value):\n",
    "        new_node = Node(value)\n",
    "        temp = self.get_head()\n",
    "        \n",
    "        while temp:\n",
    "            temp = temp.next\n",
    "        temp.next_element = new_node\n",
    "        return"
   ]
  },
  {
   "cell_type": "code",
   "execution_count": null,
   "metadata": {},
   "outputs": [],
   "source": []
  }
 ],
 "metadata": {
  "kernelspec": {
   "display_name": "Python 3.10.2 64-bit",
   "language": "python",
   "name": "python3"
  },
  "language_info": {
   "codemirror_mode": {
    "name": "ipython",
    "version": 3
   },
   "file_extension": ".py",
   "mimetype": "text/x-python",
   "name": "python",
   "nbconvert_exporter": "python",
   "pygments_lexer": "ipython3",
   "version": "3.10.2"
  },
  "orig_nbformat": 4,
  "vscode": {
   "interpreter": {
    "hash": "03b2e836145c9084bd885d9ca742021a6dfbcdc041da432844e148c54812042c"
   }
  }
 },
 "nbformat": 4,
 "nbformat_minor": 2
}
