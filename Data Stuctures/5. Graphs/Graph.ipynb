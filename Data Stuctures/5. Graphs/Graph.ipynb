{
 "cells": [
  {
   "cell_type": "code",
   "execution_count": 2,
   "metadata": {},
   "outputs": [],
   "source": [
    "class Graph:\n",
    "    def __init__(self):\n",
    "        self.adj_list = {}\n",
    "\n",
    "    def print_graph(self):\n",
    "        for vertex in self.adj_list:\n",
    "            print(f'{vertex} : {self.adj_list[vertex]}')\n",
    "\n",
    "    def add_vertex(self, vertex):\n",
    "        if vertex not in self.adj_list.keys():\n",
    "            self.adj_list[vertex] = []\n",
    "            return True\n",
    "        return False\n",
    "\n",
    "    def add_edge(self, vertex1, vertex2):\n",
    "        if vertex1 and vertex2 in self.adj_list.keys():\n",
    "            self.adj_list[vertex1].append(vertex2)\n",
    "            self.adj_list[vertex2].append(vertex1)\n",
    "            return True\n",
    "        return False\n",
    "\n",
    "    def remove_edge(self, vertex1, vertex2):\n",
    "        if vertex1 and vertex2 in self.adj_list.keys():\n",
    "            self.adj_list[vertex1].remove(vertex2)\n",
    "            self.adj_list[vertex2].remove(vertex1)\n",
    "            return True\n",
    "        return False\n",
    "\n",
    "    def remove_vertex(self, vertex):\n",
    "        if vertex in self.adj_list.keys():\n",
    "            for other_vertex in self.adj_list[vertex]:\n",
    "                self.adj_list[other_vertex].remove(vertex)\n",
    "            del self.adj_list[vertex]\n",
    "            return True\n",
    "        return False\n"
   ]
  },
  {
   "cell_type": "code",
   "execution_count": 3,
   "metadata": {},
   "outputs": [
    {
     "name": "stdout",
     "output_type": "stream",
     "text": [
      "A : []\n",
      "B : []\n",
      "C : []\n",
      "**********\n",
      "A : ['B', 'C']\n",
      "B : ['A', 'C']\n",
      "C : ['A', 'B']\n",
      "**********\n",
      "B : ['C']\n",
      "C : ['B']\n"
     ]
    }
   ],
   "source": [
    "mygraph = Graph()\n",
    "mygraph.add_vertex(\"A\")\n",
    "mygraph.add_vertex(\"B\")\n",
    "mygraph.add_vertex(\"C\")\n",
    "mygraph.print_graph()\n",
    "print(\"**********\")\n",
    "mygraph.add_edge(\"A\", \"B\")\n",
    "mygraph.add_edge(\"A\", \"C\")\n",
    "mygraph.add_edge(\"B\", \"C\")\n",
    "mygraph.print_graph()\n",
    "print(\"**********\")\n",
    "mygraph.remove_vertex(\"A\")\n",
    "mygraph.print_graph()\n"
   ]
  }
 ],
 "metadata": {
  "kernelspec": {
   "display_name": "Python 3.10.2 64-bit",
   "language": "python",
   "name": "python3"
  },
  "language_info": {
   "codemirror_mode": {
    "name": "ipython",
    "version": 3
   },
   "file_extension": ".py",
   "mimetype": "text/x-python",
   "name": "python",
   "nbconvert_exporter": "python",
   "pygments_lexer": "ipython3",
   "version": "3.10.2"
  },
  "orig_nbformat": 4,
  "vscode": {
   "interpreter": {
    "hash": "03b2e836145c9084bd885d9ca742021a6dfbcdc041da432844e148c54812042c"
   }
  }
 },
 "nbformat": 4,
 "nbformat_minor": 2
}
