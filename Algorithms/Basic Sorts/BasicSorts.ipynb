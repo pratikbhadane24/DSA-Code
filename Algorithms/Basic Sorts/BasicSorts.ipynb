{
 "cells": [
  {
   "cell_type": "code",
   "execution_count": 5,
   "metadata": {},
   "outputs": [],
   "source": [
    "class BasicSorts():\n",
    "\n",
    "    def bubble_sort(my_list):\n",
    "        for i in range(len(my_list)):\n",
    "            for j in range(len(my_list)):\n",
    "                if my_list[i] < my_list[j]:\n",
    "                    temp = my_list[i]\n",
    "                    my_list[i] = my_list[j]\n",
    "                    my_list[j] = temp\n",
    "        return my_list\n",
    "\n",
    "    def selection_sort(my_list):\n",
    "        for i in range(len(my_list)-1):\n",
    "            min_index = i\n",
    "\n",
    "            for j in range(i+1, len(my_list)):\n",
    "                if my_list[j] < my_list[min_index]:\n",
    "                    min_index = j\n",
    "\n",
    "            if i != min_index:\n",
    "                temp = my_list[min_index]\n",
    "                my_list[min_index] = my_list[i]\n",
    "                my_list[i] = temp\n",
    "        return my_list\n"
   ]
  }
 ],
 "metadata": {
  "kernelspec": {
   "display_name": "Python 3.10.2 64-bit",
   "language": "python",
   "name": "python3"
  },
  "language_info": {
   "name": "python",
   "version": "3.10.2"
  },
  "orig_nbformat": 4,
  "vscode": {
   "interpreter": {
    "hash": "03b2e836145c9084bd885d9ca742021a6dfbcdc041da432844e148c54812042c"
   }
  }
 },
 "nbformat": 4,
 "nbformat_minor": 2
}
